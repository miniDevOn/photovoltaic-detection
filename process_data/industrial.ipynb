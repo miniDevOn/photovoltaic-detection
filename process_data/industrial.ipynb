{
 "metadata": {
  "language_info": {
   "codemirror_mode": {
    "name": "ipython",
    "version": 3
   },
   "file_extension": ".py",
   "mimetype": "text/x-python",
   "name": "python",
   "nbconvert_exporter": "python",
   "pygments_lexer": "ipython3",
   "version": "3.7.10-final"
  },
  "orig_nbformat": 2,
  "kernelspec": {
   "name": "python3710jvsc74a57bd0a1dd0c9972ecd0b13908e15d1e870681102394d690ef30a934d2841e330ca9ae",
   "display_name": "Python 3.7.10 64-bit ('CS456': conda)"
  }
 },
 "nbformat": 4,
 "nbformat_minor": 2,
 "cells": [
  {
   "cell_type": "code",
   "execution_count": 8,
   "metadata": {},
   "outputs": [],
   "source": [
    "import os\n",
    "import numpy as np\n",
    "import shutil\n",
    "\n",
    "#allFileNames = os.listdir('TRI/all/test/images/industrial')\n",
    "allIndustrialNames = os.listdir('TRI/all/val/images/industrial')\n",
    "allResidencialNames = os.listdir('TRI/all/val/images/residencial')\n",
    "os.makedirs('TRI/all/val/labels/industrial')\n",
    "os.makedirs('TRI/all/val/labels/residencial')\n"
   ]
  },
  {
   "cell_type": "code",
   "execution_count": 9,
   "metadata": {
    "tags": []
   },
   "outputs": [
    {
     "output_type": "stream",
     "name": "stdout",
     "text": [
      "26 26\n"
     ]
    }
   ],
   "source": [
    "print(len(allResidencialNames),len(allIndustrialNames))"
   ]
  },
  {
   "cell_type": "code",
   "execution_count": 10,
   "metadata": {},
   "outputs": [],
   "source": [
    "\n",
    "for name in allIndustrialNames:\n",
    "    #shutil.copy('Classified Data/all/images/'+name,  'industrial/images')\n",
    "    shutil.copy( 'TRI/all/val/labels/'+name[:-4]+'_label.png', 'TRI/all/val/labels/industrial')\n",
    "    \n",
    "for name in allResidencialNames:\n",
    "    #shutil.copy('Classified Data/all/images/'+name,  'industrial/images')\n",
    "    shutil.copy( 'TRI/all/val/labels/'+name[:-4]+'_label.png', 'TRI/all/val/labels/residencial')\n"
   ]
  },
  {
   "cell_type": "code",
   "execution_count": 20,
   "metadata": {},
   "outputs": [
    {
     "output_type": "execute_result",
     "data": {
      "text/plain": [
       "464"
      ]
     },
     "metadata": {},
     "execution_count": 20
    }
   ],
   "source": []
  },
  {
   "cell_type": "code",
   "execution_count": null,
   "metadata": {},
   "outputs": [],
   "source": []
  }
 ]
}