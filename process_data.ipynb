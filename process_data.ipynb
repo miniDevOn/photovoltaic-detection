{
 "metadata": {
  "language_info": {
   "codemirror_mode": {
    "name": "ipython",
    "version": 3
   },
   "file_extension": ".py",
   "mimetype": "text/x-python",
   "name": "python",
   "nbconvert_exporter": "python",
   "pygments_lexer": "ipython3",
   "version": "3.7.6-final"
  },
  "orig_nbformat": 2,
  "kernelspec": {
   "name": "python3",
   "display_name": "Python 3",
   "language": "python"
  }
 },
 "nbformat": 4,
 "nbformat_minor": 2,
 "cells": [
  {
   "cell_type": "code",
   "execution_count": 88,
   "metadata": {},
   "outputs": [],
   "source": [
    "from os import listdir\n",
    "from os.path import isfile, join\n",
    "import matplotlib.image\n",
    "import numpy as np"
   ]
  },
  {
   "cell_type": "code",
   "execution_count": 89,
   "metadata": {},
   "outputs": [],
   "source": [
    "path = 'data/images'\n",
    "copy = 'data/labels'"
   ]
  },
  {
   "cell_type": "code",
   "execution_count": 90,
   "metadata": {},
   "outputs": [],
   "source": [
    "images = ['data/images/'+f for f in listdir(path) if isfile(join(path, f))]\n",
    "labels = ['data/labels/'+f for f in listdir(copy) if isfile(join(copy,f))]\n"
   ]
  },
  {
   "cell_type": "code",
   "execution_count": 91,
   "metadata": {},
   "outputs": [],
   "source": [
    "import os\n",
    "import numpy as np\n",
    "import shutil\n",
    "import random\n",
    "\n",
    "# # Creating Train / Val / Test folders (One time use)\n",
    "root_dir = 'data'\n",
    "\n",
    "val_ratio = 0.1\n",
    "test_ratio = 0.1\n",
    "\n",
    "os.makedirs(root_dir +'/train/images')\n",
    "os.makedirs(root_dir +'/train/labels')\n",
    "\n",
    "os.makedirs(root_dir +'/val/images')\n",
    "os.makedirs(root_dir +'/val/labels')\n",
    "\n",
    "os.makedirs(root_dir +'/test/images')\n",
    "os.makedirs(root_dir +'/test/labels')\n"
   ]
  },
  {
   "cell_type": "code",
   "execution_count": 92,
   "metadata": {},
   "outputs": [],
   "source": [
    "\n",
    "\n",
    "# Creating partitions of the data after shuffeling\n",
    "src = root_dir + '/images' # Folder to copy images from\n",
    "scr_mask = root_dir + '/labels'\n",
    "allFileNames = os.listdir(src)\n",
    "np.random.shuffle(allFileNames)\n",
    "train_FileNames, val_FileNames, test_FileNames = np.split(np.array(allFileNames),\n",
    "                                                            [int(len(allFileNames)* (1 - (val_ratio + test_ratio))), \n",
    "                                                            int(len(allFileNames)* (1 - test_ratio))])\n",
    "\n",
    "\n",
    "train_FileNames = [src+'/'+ name for name in train_FileNames.tolist()]\n",
    "train_MaskNames = [scr_mask + '/' + name[12:-4]+\"_label.png\" for name in train_FileNames]\n",
    "val_FileNames = [src+'/' + name for name in val_FileNames.tolist()]\n",
    "val_MaskNames = [scr_mask + '/' + name[12:-4]+\"_label.png\" for name in val_FileNames]\n",
    "test_FileNames = [src+'/' + name for name in test_FileNames.tolist()]\n",
    "test_MaskNames = [scr_mask + '/' + name[12:-4]+\"_label.png\"  for name in test_FileNames]\n",
    "\n"
   ]
  },
  {
   "cell_type": "code",
   "execution_count": 93,
   "metadata": {},
   "outputs": [
    {
     "output_type": "stream",
     "name": "stdout",
     "text": [
      "Total images:  525\nTraining:  420\nValidation:  52\nTesting:  53\n"
     ]
    }
   ],
   "source": [
    "\n",
    "print('Total images: ', len(allFileNames))\n",
    "print('Training: ', len(train_FileNames))\n",
    "print('Validation: ', len(val_FileNames))\n",
    "print('Testing: ', len(test_FileNames))\n",
    "\n",
    "# Copy-pasting images\n",
    "for name in train_FileNames:\n",
    "    shutil.copy(name, root_dir +'/train/' + 'images')\n",
    "for name in train_MaskNames:\n",
    "    shutil.copy(name,root_dir+'/train/'+'labels')\n",
    "\n",
    "for name in val_FileNames:\n",
    "    shutil.copy(name, root_dir +'/val/' + 'images')\n",
    "for name in val_MaskNames:\n",
    "    shutil.copy(name, root_dir +'/val/' + 'labels')\n",
    "\n",
    "for name in test_FileNames:\n",
    "    shutil.copy(name, root_dir +'/test/' + 'images')\n",
    "for name in test_MaskNames:\n",
    "    shutil.copy(name, root_dir +'/test/' + 'labels')"
   ]
  },
  {
   "cell_type": "code",
   "execution_count": null,
   "metadata": {},
   "outputs": [],
   "source": []
  },
  {
   "cell_type": "code",
   "execution_count": null,
   "metadata": {},
   "outputs": [],
   "source": []
  }
 ]
}